{
 "cells": [
  {
   "cell_type": "code",
   "execution_count": 9,
   "id": "309957cd-1a22-4895-aa42-bb1c12756c43",
   "metadata": {},
   "outputs": [],
   "source": [
    "#Importing packages\n",
    "import os\n",
    "import pandas as pd\n",
    "import numpy as np\n",
    "from sklearn.neighbors import NearestNeighbors\n",
    "from dotenv import load_dotenv\n",
    "import psycopg2"
   ]
  },
  {
   "cell_type": "code",
   "execution_count": 10,
   "id": "9d361c77-a000-4b57-a4c5-747ac852d9f1",
   "metadata": {},
   "outputs": [],
   "source": [
    "load_dotenv()\n",
    "DATABASE_URL = os.getenv(\"DATABASE_URL\")"
   ]
  },
  {
   "cell_type": "code",
   "execution_count": 11,
   "id": "db7f9121-f2cf-4114-b952-94a93288ce42",
   "metadata": {},
   "outputs": [
    {
     "name": "stdout",
     "output_type": "stream",
     "text": [
      "Connected to the database\n"
     ]
    }
   ],
   "source": [
    "try:\n",
    "    conn = psycopg2.connect(DATABASE_URL)\n",
    "    print(\"Connected to the database\")\n",
    "    cursor = conn.cursor()\n",
    "    sql = \"\"\" SELECT id,name FROM \\\"Tags\\\" \"\"\"\n",
    "    cursor.execute(sql)\n",
    "    db_tags = cursor.fetchall()\n",
    "    tags = {}\n",
    "    for i in db_tags:\n",
    "        tags[i[0]] = i[1]\n",
    "     \n",
    "    #for i in tags:\n",
    "    feature_list =[\"uuid\"]+[i[0] for i in db_tags]\n",
    "    df = pd.DataFrame(columns=feature_list)\n",
    "    sql = \"\"\"  SELECT \\\"poemId\\\",\\\"tagId\\\" FROM  \\\"PoemsTags\\\" \"\"\"\n",
    "    cursor.execute(sql)\n",
    "    poems_tags = cursor.fetchall()\n",
    " \n",
    "\n",
    "    \n",
    "    dict_poems_tags = {}\n",
    "    for i in poems_tags:\n",
    "        if i[0] in dict_poems_tags:\n",
    "            dict_poems_tags[i[0]][i[1]] = 1\n",
    "        else:\n",
    "            dict_poems_tags[i[0]] = {}\n",
    "            dict_poems_tags[i[0]]['uuid'] = i[0]\n",
    "            dict_poems_tags[i[0]][i[1]] = 1\n",
    "    \n",
    "    for i in dict_poems_tags:\n",
    "        df.loc[len(df)] =   dict_poems_tags[i]\n",
    "        \n",
    "\n",
    "    df = df.fillna(0)\n",
    "    #df.to_csv('model.csv',index=False)\n",
    "except Exception as e:\n",
    "    print(\"Database Error\",e)\n",
    "finally:\n",
    "    conn.close()"
   ]
  },
  {
   "cell_type": "code",
   "execution_count": 31,
   "id": "13288689-9423-40f2-9217-f1ec482b9b7b",
   "metadata": {},
   "outputs": [
    {
     "name": "stdout",
     "output_type": "stream",
     "text": [
      "Connected to the database\n",
      "('Falsa elegía',) 0.0\n",
      "('Rincón de la sangre',) 2.449489742783178\n",
      "('Quédate callado',) 2.449489742783178\n",
      "('Mejor querría ser horizontal…',) 2.449489742783178\n",
      "('Te vi crecer como un árbol…',) 2.449489742783178\n",
      "('Llanto por el prefecto de Vin Tuong',) 2.449489742783178\n",
      "('El último deseo',) 2.449489742783178\n",
      "('Canción',) 2.449489742783178\n",
      "('Veo que el ciruelo de invierno ha brotado',) 2.449489742783178\n",
      "('Oí decir a los muy, muy viejos',) 2.449489742783178\n"
     ]
    }
   ],
   "source": [
    "remove_uuid = df.drop(['uuid'],axis=1)\n",
    "X = remove_uuid\n",
    "\n",
    "post_data = {1:1,2:1,3:1,4:1,5:1}\n",
    "fill_data = {}\n",
    "for i in tags:\n",
    "    if i in post_data:\n",
    "        fill_data[i] = 1\n",
    "    else:\n",
    "        fill_data[i] = 0\n",
    "post = pd.DataFrame(data=fill_data,index=[0])\n",
    "neigh = NearestNeighbors(n_neighbors=10, algorithm='brute')\n",
    "neigh.fit(X)\n",
    "distances,indices = neigh.kneighbors(post)\n",
    "conn = psycopg2.connect(DATABASE_URL)\n",
    "print(\"Connected to the database\")\n",
    "cursor = conn.cursor()\n",
    "for i in range(len(distances.flatten())):\n",
    "    #  print('{0}: {1}, with a distance of {2}.'.format(i+1, movies['Movie Name'].iloc[indices.flatten()[i]],distances.flatten()[i]))\n",
    "    uuid = (df['uuid'].iloc[indices.flatten()[i]])\n",
    "    \n",
    "    sql = \"\"\" SELECT title FROM  \\\"Poems\\\" WHERE id=%s \"\"\"\n",
    "    values = (uuid,)\n",
    "    cursor.execute(sql,values)\n",
    "    info = cursor.fetchone()\n",
    "    print(info,distances.flatten()[i])\n",
    "conn.close()\n",
    "    "
   ]
  },
  {
   "cell_type": "code",
   "execution_count": null,
   "id": "ceacd755-a170-4bbf-a567-36fe9edeea68",
   "metadata": {},
   "outputs": [],
   "source": []
  },
  {
   "cell_type": "code",
   "execution_count": null,
   "id": "4286fbea-0cb8-44ca-a623-82e28d46ccb2",
   "metadata": {},
   "outputs": [],
   "source": []
  },
  {
   "cell_type": "code",
   "execution_count": null,
   "id": "fa31cedf-0d72-46a3-b81f-d57defcc5ae4",
   "metadata": {},
   "outputs": [],
   "source": []
  }
 ],
 "metadata": {
  "kernelspec": {
   "display_name": "Python 3 (ipykernel)",
   "language": "python",
   "name": "python3"
  },
  "language_info": {
   "codemirror_mode": {
    "name": "ipython",
    "version": 3
   },
   "file_extension": ".py",
   "mimetype": "text/x-python",
   "name": "python",
   "nbconvert_exporter": "python",
   "pygments_lexer": "ipython3",
   "version": "3.11.2"
  }
 },
 "nbformat": 4,
 "nbformat_minor": 5
}
